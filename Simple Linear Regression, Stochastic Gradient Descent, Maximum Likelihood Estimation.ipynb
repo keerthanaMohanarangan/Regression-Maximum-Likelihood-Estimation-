{
 "cells": [
  {
   "cell_type": "markdown",
   "metadata": {},
   "source": [
    "# 0 What is a likelihood function? Also add a formula. "
   ]
  },
  {
   "cell_type": "markdown",
   "metadata": {},
   "source": [
    "Likehood function takes the data set as given,and represents the likeliness of different parameters for our distribution.\n",
    "It measures the support provided by the data for each possible value of the parameter.If we compare the likelihood function at two parameter points and find that L(θ1|x) > L(θ2|x) then the sample we actually observed is more likely to have occurred if θ = θ1 than if θ = θ2. This can be interpreted as θ1 is a more plausible value for θ than θ2.Likelihood function is central to the process of estimating the unknown parameters.Older and less sophisticated methods include the method of moments, and the method of minimum chi-square for count data. These estimators are not always efficient, and\n",
    "their sampling distributions are often mathematically intractable. \n",
    "\n",
    "L(θ |x) = f(x |θ) is likelihood function\n",
    "\n",
    "A Likelihood function is probability of getting certain output depending on the the parameter.\n",
    "The likelihood function is a function of θ.\n",
    "The likelihood function isnota probability density function.\n",
    "The likelihood is only defined up to a constant of proportionality.  In other words, it isan equivalence class of functions.\n",
    "The  likelihood  function  is  used  (i)  to  generate  estimators  (the  maximum  likelihoodestimator) and (ii) as a key ingredient in Bayesian inference.\n",
    "Let X1, X2, ..., Xn  have a joint density function  f(X1, X2, ..., Xn|θ). Given  X1=x1, X2=x2, ..., Xn=xn  is observed, the function ofθdefined by:\n",
    "$$L(θ) =L(θ|x1, x2, ..., xn) =f(x1, x2, ..., xn|θ)$$\n"
   ]
  },
  {
   "cell_type": "markdown",
   "metadata": {},
   "source": [
    "# 1 What is Maximum Likelihood estimation (MLE) ? Can you give an example? "
   ]
  },
  {
   "cell_type": "markdown",
   "metadata": {},
   "source": [
    "Maximum likelihood estimation is that particular assumed value population parameter which maximizes the probability of obtaining the sample data that has been observered.\n",
    "$X1,X2,X3,...Xn$ have joint density denoted $fθ(x1,x2,...,xn) =f(x1,x2,...,xn|θ)$\n",
    "Given observed values $X1=x1,X2=x2,...,Xn=xn$, the likelihood of $θ$ is the function\n",
    "$lik(θ) =f(x1,x2,...,xn|θ)$ considered as a function ofθ.If the distribution is discrete,$f$ will be the frequency distribution function.\n",
    "In words:\n",
    "$lik(θ)$=probability of observing the given data as a function of $θ$.\n",
    "Definition:\n",
    "The maximum likelihood estimate (mle) of $θ$ is that value of $θ$ that maximises $lik(θ)$:  it is the value that makes the observed data the “most probable”.If the $Xi$ are iid, then the likelihood simplifies $$lik(θ) =n∏i=1f(xi|θ)$$\n",
    "Rather than maximising this product which can be quite tedious, we often use the factthat  the  logarithm  is  an  increasing  function  so  it  will  be  equivalent  to  maximise  the  loglikelihood:$$l(θ) =n∑i=1log(f(xi|θ))$$\n",
    "\n",
    "\n",
    "\n",
    "__Example:__<br>\n",
    "Suppose we have a package of seeds, each of which has a constant probability p of success of germination. We plant n of these and count the number of those that sprout. Assume that each seed sprouts independently of the others. How do we determine the maximum likelihood estimator of the parameter p?\n",
    "\n",
    "We begin by noting that each seed is modeled by a Bernoulli distribution with a success of p. We let X be either 0 or 1, and the probability mass function for a single seed is f( x ; p ) = px (1 - p)1 - x. \n",
    "\n",
    "\n",
    "Our sample consists of n  different Xi, each of with has a Bernoulli distribution. The seeds that sprout have Xi = 1 and the seeds that fail to sprout have Xi = 0. \n",
    "\n",
    "The likelihood function is given by:\n",
    "\n",
    "L ( p ) = Π pxi (1 - p)1 - xi\n",
    "\n",
    "We see that it is possible to rewrite the likelihood function by using the laws of exponents. \n",
    "\n",
    "L ( p ) = pΣ xi (1 - p)n - Σ xi\n",
    "\n",
    "Next we differentiate this function with respect to p. We assume that the values for all of the Xi are known, and hence are constant. To differentiate the likelihood function we need to use the product rule along with the power rule:\n",
    "\n",
    "L' ( p ) = Σ xip-1 +Σ xi (1 - p)n - Σ xi - (n - Σ xi )pΣ xi (1 - p)n-1 - Σ xi\n",
    "\n",
    "We rewrite some of the negative exponents and have:\n",
    "\n",
    "L' ( p ) = (1/p) Σ xipΣ xi (1 - p)n - Σ xi - 1/(1 - p) (n - Σ xi )pΣ xi (1 - p)n - Σ xi\n",
    "\n",
    "= [(1/p) Σ xi - 1/(1 - p) (n - Σ xi)]ipΣ xi (1 - p)n - Σ xi\n",
    "\n",
    "Now, in order to continue the process of maximization, we set this derivative equal to zero and solve for p:\n",
    "\n",
    "0 = [(1/p) Σ xi - 1/(1 - p) (n - Σ xi)]ipΣ xi (1 - p)n - Σ xi\n",
    "\n",
    "Since p and (1- p) are nonzero we have that\n",
    "\n",
    "0 = (1/p) Σ xi - 1/(1 - p) (n - Σ xi).\n",
    "\n",
    "Multiplying both sides of the equation by p(1- p) gives us:\n",
    "\n",
    "0 = (1 - p) Σ xi - p (n - Σ xi).\n",
    "\n",
    "We expand the right hand side and see:\n",
    "\n",
    "0 = Σ xi - p Σ xi - p n + pΣ xi = Σ xi - p n.\n",
    "\n",
    "Thus Σ xi = p n and (1/n)Σ xi = p. This means that the maximum likelihood estimator of p is a sample mean. More specifically this is the sample proportion of the seeds that germinated. This is perfectly in line with what intuition would tell us. In order to determine the proportion of seeds that will germinate, first consider a sample from the population of interest."
   ]
  },
  {
   "cell_type": "markdown",
   "metadata": {},
   "source": [
    "# 2 How is linear regression related to Pytorch and gradient descent? "
   ]
  },
  {
   "cell_type": "markdown",
   "metadata": {},
   "source": [
    "Linear regression is a linear approach to modelling the relationship between a dependent variable and one or more independent variables. Let X be the independent variable and Y be the dependent variable. We will define a linear relationship between these two variables as follows:\n",
    "$$Y=mX+c$$\n",
    "$m$ is the slope of the line and $c$ is the y intercept.We will use this equation to train our model with a given dataset and predict the value of $Y$ for any given value of $X$. Our challenge is to determine the value of $m$ and $c$, such that the line corresponding to those values is the best fitting line or gives the minimum error.\n",
    "The loss is the error in our predicted value of $m$ and $c$. Our goal is to minimize this error to obtain the most accurate value of $m$ and $c$.\n",
    "To find the loss function we can use pytorch which has built in libraries which minimizes the number of lines of code.\n",
    "This is all these are related."
   ]
  },
  {
   "cell_type": "markdown",
   "metadata": {},
   "source": [
    "#  3 Write out MSE loss for linear regression. Could we also use this loss for classification? "
   ]
  },
  {
   "attachments": {
    "2.jpeg": {
     "image/jpeg": "[encoded data removed]"
    }
   },
   "cell_type": "markdown",
   "metadata": {},
   "source": [
    "The loss is the error in our predicted value of m and c. Our goal is to minimize this error to obtain the most accurate value of m and c.\n",
    "We will use the Mean Squared Error function to calculate the loss. There are three steps in this function:\n",
    "Find the difference between the actual y and predicted y value(y = mx + c), for a given x.\n",
    "Square this difference.\n",
    "Find the mean of the squares for every value in X.\n",
    "![](1_3cpC7oHy4IbH3o3Jc-ygVw.jpeg)\n",
    "\n",
    "actual value and ȳᵢ is the predicted value. Lets substitute the value of ȳᵢ:\n",
    "![](attachment:2.jpeg)\n",
    "So we square the error and find the mean. hence the name Mean Squared Error. Now that we have defined the loss function, lets get into the interesting part — minimizing it and finding m and c."
   ]
  },
  {
   "cell_type": "markdown",
   "metadata": {},
   "source": [
    "# 5 Write out the likelihood function for linear classification. What is the drawback of using MSE loss here? "
   ]
  },
  {
   "cell_type": "markdown",
   "metadata": {},
   "source": [
    "The logit model the output variable  $y_{i}$ is a Bernoulli random variable (it can take only two values, either 1 or 0)\n",
    "<p> $\\mathrm{P}\\left(y_{i}=1 | x_{i}\\right)=S\\left(x_{i} \\beta\\right)$</p>\n",
    "where\n",
    "$S(t)=\\frac{1}{1+\\exp (-t)}$\n",
    "is the logistic function,\n",
    "$x_{i}$\n",
    "is a\n",
    "$1xK$ vector of inputs and\n",
    "$\\beta $\n",
    "is a  Kx1 vector of coefficients.\n",
    "Furthermore,\n",
    "the likelihood of the entire sample is equal to the product of the likelihoods of the single observations:\n",
    "$L\\left(\\beta ; y_{i}, x_{i}\\right)=\\left[S\\left(x_{i} \\beta\\right)\\right]^{y_{i}}\\left[1-S\\left(x_{i} \\beta\\right)\\right]^{1-y_{i}}$\n",
    "$\\begin{aligned} l(\\beta ; y, X) &=\\ln (L(\\beta ; y, X)) \\\\ &=\\ln \\left(\\prod_{i=1}^{N}\\left[S\\left(x_{i} \\beta\\right)\\right]^{y_{i}}\\left[1-S\\left(x_{i} \\beta\\right)\\right]^{1-y_{i}}\\right) \\\\ &=\\sum_{i=1}^{N}\\left[y_{i} \\ln \\left(S\\left(x_{i} \\beta\\right)\\right)+\\left(1-y_{i}\\right) \\ln \\left(1-S\\left(x_{i} \\beta\\right)\\right)\\right] \\end{aligned}$\n",
    "$\\begin{array}\n",
    "{=\\sum_{i=1}^{N}\\left[y_{i} \\ln \\left(\\frac{1}{1+\\exp \\left(-x_{i} \\beta\\right)}\\right)+\\left(1-y_{i}\\right) \\ln \\left(1-\\frac{1}{1+\\exp \\left(-x_{i} \\beta\\right)}\\right)\\right]} \\\\\n",
    "{=\\sum_{i=1}^{N}\\left[y_{i} \\ln \\left(\\frac{1}{1+\\exp \\left(-x_{i} \\beta\\right)}\\right)+\\left(1-y_{i}\\right) \\ln \\left(\\frac{1+\\exp \\left(-x_{i} \\beta\\right)-1}{1+\\exp \\left(-x_{i} \\beta\\right)}\\right)\\right]} \\\\\n",
    "{=\\sum_{i=1}^{N}\\left[y_{i} \\ln \\left(\\frac{1}{1+\\exp \\left(-x_{i} \\beta\\right)}\\right)+\\left(1-y_{i}\\right) \\ln \\left(\\frac{\\exp \\left(-x_{i} \\beta\\right)}{1+\\exp \\left(-x_{i} \\beta\\right)}\\right)\\right]}\n",
    "\\end{array}$\n",
    "$\n",
    "\\begin{array}{l}{=\\sum_{i=1}^{N}\\left[\\ln \\left(\\frac{\\exp \\left(-x_{i} \\beta\\right)}{1+\\exp \\left(-x_{i} \\beta\\right)}\\right)+y_{i}\\left(\\ln \\left(\\frac{1}{1+\\exp \\left(-x_{i} \\beta\\right)}\\right)-\\ln \\left(\\frac{\\exp \\left(-x_{i} \\beta\\right)}{1+\\exp \\left(-x_{i} \\beta\\right)}\\right)\\right)\\right]} \\\\ {=\\sum_{i=1}^{N}\\left[\\ln \\left(\\frac{\\exp \\left(-x_{i} \\beta\\right)}{1+\\exp \\left(-x_{i} \\beta\\right)} \\frac{\\exp \\left(x_{i} \\beta\\right)}{\\exp \\left(x_{i} \\beta\\right)}\\right)+y_{i}\\left(\\ln \\left(\\frac{1}{1+\\exp \\left(-x_{i} \\beta\\right)} \\frac{1+\\exp \\left(-x_{i} \\beta\\right)}{\\exp \\left(-x_{i} \\beta\\right)}\\right)\\right\\}\\right]} \\\\ {\\quad=\\sum_{i=1}^{N}\\left[\\ln \\left(\\frac{1}{1+\\exp \\left(x_{i} \\beta\\right)}\\right)+y_{i}\\left(\\ln \\left(\\frac{1}{\\exp \\left(-x_{i} \\beta\\right)}\\right)\\right)\\right]}\\end{array}\n",
    "$\n",
    "$\n",
    "\\begin{array}{l}{=\\sum_{i=1}^{N}\\left[\\ln (1)-\\ln \\left(1+\\exp \\left(x_{i} \\beta\\right)\\right)+y_{i}\\left(\\ln (1)-\\ln \\left(\\exp \\left(-x_{i} \\beta\\right)\\right)\\right]\\right.} \\\\ {=\\sum_{i=1}^{N}\\left[-\\ln \\left(1+\\exp \\left(x_{i} \\beta\\right)\\right)+y_{i} x_{i} \\beta\\right]}\\end{array}\n",
    "$\n",
    "\n"
   ]
  },
  {
   "cell_type": "markdown",
   "metadata": {},
   "source": [
    "# 4 Write out the Maximum likelihood Estimation for linear regression. How is this related to the MSE loss for linear regression derived in the last point? Derive the relation between them."
   ]
  },
  {
   "attachments": {},
   "cell_type": "markdown",
   "metadata": {},
   "source": [
    "MLE method can also be used to find the best model parameters of a linear regression model.\n",
    "linear model that needed to be estimated as ŷ.\n",
    "![](1_5OPa4O7PVBrGjfXqDkGnSg.png)\n",
    "![](image1.png)\n",
    "\n",
    "We can consider this ŷ data as also in a normal distribution. But this time, their mean values will be them self since they fall along on top of the ŷ line perfectly. And so the variance of these ŷ data (predicted labels) will be 0. So, ŷ~N(XW , 0)\n",
    "We have an error term called ε (residual) which is the distance between predicted value (ŷ) and actual value(y). And there are some important assumptions that we do in linear regression regarding these residuals, and they are:\n",
    "“ Residuals are normally distributed”\n",
    "“ Residuals have an equal variance”\n",
    "“ Means of residuals are 0”\n",
    "![](image2.png)\n",
    "E(y) = E(ŷ + ε)\n",
    "E(y) = E(ŷ) + E(ε)\n",
    "E(y) = XW + 0 = XW\n",
    "And,\n",
    "Variance(y) = Variance( ŷ + ε )\n",
    "Variance(y) = Variance( ŷ )+ Variance( ε )\n",
    "Variance(y) = 0 + σ²\n",
    "So we can say that y is a normal distribution with mean XW and variance σ².\n",
    "![](image3.png)\n",
    "Now let’s calculate the MLEs for XW and σ² as we did in previous example. But note that here we hava n data points (in earlier example we had only 3), and each of those data point are of dimension d.\n",
    "![](image4.png)\n",
    "As y is a normal distribution,\n",
    "![](image5.png)\n",
    "![](image6.png)\n",
    "![](!1_jjdNcl4ia8wYn2VJGFhGYQ.png)\n",
    "![](!1_IUHvakCuZzY-RCBmDmHAgQ.png)\n",
    "![](1_HJpa51ynuqACIm_qDmikTw.png)"
   ]
  },
  {
   "cell_type": "markdown",
   "metadata": {},
   "source": [
    "# 7 What are normal equations? Is it the same as least squares? Explain. You may refer to this "
   ]
  },
  {
   "attachments": {},
   "cell_type": "markdown",
   "metadata": {},
   "source": [
    "Normal Equation is an analytical approach to Linear Regression with a Least Square Cost Function. We can directly find out the value of θ without using Gradient Descent. Following this approach is an effective and a time-saving option when are working with a dataset with small features.\n",
    "Normal Equation is a follows :\n",
    "![](Untitled-drawing-1-10.png)\n",
    "In the above equation,\n",
    "θ : hypothesis parameters that define it the best.\n",
    "X : Input feature value of each instance.\n",
    "Y : Output value of each instance.</br>\n",
    "\n",
    "__IS normal equation and least squares method same?__\n",
    "\n",
    "__Least Square Method:__\n",
    "\n",
    "The least squares method is a form of mathematical regression analysis that finds the line of best fit for a set of data, providing a visual demonstration of the relationship between the data points. Each point of data is representative of the relationship between a known independent variable and an unknown dependent variable.\n",
    "\n",
    "__Are they same?__\n",
    "\n",
    "No they are not same."
   ]
  },
  {
   "cell_type": "markdown",
   "metadata": {},
   "source": [
    "# 8 Is feature scaling needed for linear regression when using gradient descent?  Why or why not? "
   ]
  },
  {
   "cell_type": "markdown",
   "metadata": {},
   "source": [
    "Feature scaling is a method used to normalize the range of independent variables or features of data. In data processing, it is also known as data normalization and is generally performed during the data preprocessing step\n",
    "Yes Feature scaling is needed for linear regression while using gradiendt descent because while using the gradient descent algorithm, feature scaling will help the solution converge in a shorter period of time."
   ]
  },
  {
   "cell_type": "markdown",
   "metadata": {},
   "source": [
    "# 6 Can gradient descent be used to find the parameters for linear regression? What about linear classification? Why? "
   ]
  },
  {
   "cell_type": "markdown",
   "metadata": {},
   "source": [
    "Gradient descent can be used to find the parameters for linear regression because the data points are along the curve so its easy to draw the slope but for linear classification the when the data points are disorted then we cant find the slope we need someother algorithims are needed to find the slope."
   ]
  },
  {
   "cell_type": "markdown",
   "metadata": {},
   "source": [
    "# 9 Write out the MLE approach for logistic regression. How is this related to the binary cross-entropy?"
   ]
  },
  {
   "cell_type": "markdown",
   "metadata": {},
   "source": [
    "Logistic regression is widely used to model the outcomes of a categorical dependent variable. For categorical variables it is inappropriate to use linear regression because the response values are not measured on a ratio scale and the error terms are not normally distributed. In addition, the linear regression model can generate as predicted values any real number ranging from negative to positive infinity, whereas a categorical variable can only take on a limited number of discrete values within a specified range.\n",
    "\n",
    "Now let’s consider the logistic model (a binary classifier) to describe log-odds using a linear model:\n",
    "$$\n",
    "\\ln \\frac{p}{1-p}=\\beta_{0}+\\beta_{1} x_{1}+\\cdots+\\beta_{m} x_{m}\n",
    "$$<b>\n",
    "The probability of observing outcome y=1 under this model is given by the following function (sigmoid):<b>\n",
    "$$\n",
    "p \\equiv p(y=1 | \\mathbf{B}, \\mathbf{X})=\\frac{1}{1+e^{-\\left(\\beta_{0}+\\beta_{1} x_{1}+\\cdots+\\beta_{m} x_{m}\\right)}}\n",
    "$$<b>\n",
    "With 0 and 1 being the only possible outcomes, the probability of observing outcome y=0 is simply (1-p):\n",
    "$$\n",
    "p(y=o | \\mathbf{B}, \\mathbf{X})=p^{o}(1-p)^{1-o}\n",
    "$$\n",
    "The likelihood function is given by the product of all individual probabilities:\n",
    "$$\n",
    "\\mathcal{L}=\\prod_{i=1}^{n} p\\left(y=y_{i} | \\mathbf{B}_{i}, \\mathbf{X}_{i}\\right)=\\prod_{i=1}^{n} p_{i}^{y_{i}}\\left(1-p_{i}\\right)^{1-y_{i}}\n",
    "$$\n",
    "It’s easier to maximize the log-likelihood:\n",
    "$$\n",
    "\\ln \\mathcal{L}=\\sum_{i=1}^{n}\\left(y_{i} \\ln p_{i}+\\left(1-y_{i}\\right) \\ln \\left(1-p_{i}\\right)\\right)\n",
    "$$\n",
    "Thus  maximum liklihood estimation yields a familiar loss function (cross-entropy in this case).\n",
    "\n"
   ]
  },
  {
   "cell_type": "markdown",
   "metadata": {},
   "source": [
    "# Bonus question"
   ]
  },
  {
   "cell_type": "markdown",
   "metadata": {},
   "source": [
    "# Find the gradient of the sigmoid analytically. \n"
   ]
  },
  {
   "attachments": {},
   "cell_type": "markdown",
   "metadata": {},
   "source": [
    "![](IMG_20190806_113604.jpg)\n",
    "![](IMG_20190806_113624.jpg)"
   ]
  },
  {
   "cell_type": "code",
   "execution_count": null,
   "metadata": {},
   "outputs": [],
   "source": []
  }
 ],
 "metadata": {
  "kernelspec": {
   "display_name": "Python 3",
   "language": "python",
   "name": "python3"
  },
  "language_info": {
   "codemirror_mode": {
    "name": "ipython",
    "version": 3
   },
   "file_extension": ".py",
   "mimetype": "text/x-python",
   "name": "python",
   "nbconvert_exporter": "python",
   "pygments_lexer": "ipython3",
   "version": "3.7.3"
  },
  "latex_envs": {
   "LaTeX_envs_menu_present": true,
   "autoclose": false,
   "autocomplete": true,
   "bibliofile": "biblio.bib",
   "cite_by": "apalike",
   "current_citInitial": 1,
   "eqLabelWithNumbers": true,
   "eqNumInitial": 1,
   "hotkeys": {
    "equation": "Ctrl-E",
    "itemize": "Ctrl-I"
   },
   "labels_anchors": false,
   "latex_user_defs": false,
   "report_style_numbering": false,
   "user_envs_cfg": false
  },
  "toc": {
   "base_numbering": 1,
   "nav_menu": {},
   "number_sections": true,
   "sideBar": true,
   "skip_h1_title": false,
   "title_cell": "Table of Contents",
   "title_sidebar": "Contents",
   "toc_cell": false,
   "toc_position": {},
   "toc_section_display": true,
   "toc_window_display": false
  },
  "varInspector": {
   "cols": {
    "lenName": 16,
    "lenType": 16,
    "lenVar": 40
   },
   "kernels_config": {
    "python": {
     "delete_cmd_postfix": "",
     "delete_cmd_prefix": "del ",
     "library": "var_list.py",
     "varRefreshCmd": "print(var_dic_list())"
    },
    "r": {
     "delete_cmd_postfix": ") ",
     "delete_cmd_prefix": "rm(",
     "library": "var_list.r",
     "varRefreshCmd": "cat(var_dic_list()) "
    }
   },
   "types_to_exclude": [
    "module",
    "function",
    "builtin_function_or_method",
    "instance",
    "_Feature"
   ],
   "window_display": false
  }
 },
 "nbformat": 4,
 "nbformat_minor": 2
}
